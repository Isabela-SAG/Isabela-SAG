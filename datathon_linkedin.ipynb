{
  "nbformat": 4,
  "nbformat_minor": 0,
  "metadata": {
    "colab": {
      "provenance": [],
      "authorship_tag": "ABX9TyPTQGFk0q9nVKvLN7auSLA+",
      "include_colab_link": true
    },
    "kernelspec": {
      "name": "python3",
      "display_name": "Python 3"
    },
    "language_info": {
      "name": "python"
    }
  },
  "cells": [
    {
      "cell_type": "markdown",
      "metadata": {
        "id": "view-in-github",
        "colab_type": "text"
      },
      "source": [
        "<a href=\"https://colab.research.google.com/github/Isabela-SAG/Isabela-SAG/blob/main/datathon_linkedin.ipynb\" target=\"_parent\"><img src=\"https://colab.research.google.com/assets/colab-badge.svg\" alt=\"Open In Colab\"/></a>"
      ]
    },
    {
      "cell_type": "code",
      "source": [
        "!pip install linkdapi"
      ],
      "metadata": {
        "colab": {
          "base_uri": "https://localhost:8080/"
        },
        "id": "J-roKK3znrLI",
        "outputId": "221178bf-7a24-4496-d157-687240de725c"
      },
      "execution_count": 14,
      "outputs": [
        {
          "output_type": "stream",
          "name": "stdout",
          "text": [
            "Requirement already satisfied: linkdapi in /usr/local/lib/python3.12/dist-packages (1.0.1)\n",
            "Requirement already satisfied: httpx>=0.28.1 in /usr/local/lib/python3.12/dist-packages (from linkdapi) (0.28.1)\n",
            "Requirement already satisfied: anyio in /usr/local/lib/python3.12/dist-packages (from httpx>=0.28.1->linkdapi) (4.10.0)\n",
            "Requirement already satisfied: certifi in /usr/local/lib/python3.12/dist-packages (from httpx>=0.28.1->linkdapi) (2025.8.3)\n",
            "Requirement already satisfied: httpcore==1.* in /usr/local/lib/python3.12/dist-packages (from httpx>=0.28.1->linkdapi) (1.0.9)\n",
            "Requirement already satisfied: idna in /usr/local/lib/python3.12/dist-packages (from httpx>=0.28.1->linkdapi) (3.10)\n",
            "Requirement already satisfied: h11>=0.16 in /usr/local/lib/python3.12/dist-packages (from httpcore==1.*->httpx>=0.28.1->linkdapi) (0.16.0)\n",
            "Requirement already satisfied: sniffio>=1.1 in /usr/local/lib/python3.12/dist-packages (from anyio->httpx>=0.28.1->linkdapi) (1.3.1)\n",
            "Requirement already satisfied: typing_extensions>=4.5 in /usr/local/lib/python3.12/dist-packages (from anyio->httpx>=0.28.1->linkdapi) (4.15.0)\n"
          ]
        }
      ]
    },
    {
      "cell_type": "code",
      "source": [
        "import json\n",
        "\n",
        "file_path = '/content/linkedin_success_master.json'\n",
        "\n",
        "try:\n",
        "    with open(file_path, 'r') as f:\n",
        "        linkedin_data = json.load(f)\n",
        "except FileNotFoundError:\n",
        "    print(f\"Error: The file {file_path} was not found.\")\n",
        "except json.JSONDecodeError:\n",
        "    print(f\"Error: Could not decode JSON from the file {file_path}.\")\n",
        "except Exception as e:\n",
        "    print(f\"An error occurred: {e}\")"
      ],
      "metadata": {
        "colab": {
          "base_uri": "https://localhost:8080/"
        },
        "id": "B5iPGRIUkN9q",
        "outputId": "4dac9f6e-01e0-4d1b-f82e-9d8d2e1b6f68"
      },
      "execution_count": 6,
      "outputs": [
        {
          "output_type": "stream",
          "name": "stdout",
          "text": [
            "JSON file read successfully.\n"
          ]
        }
      ]
    },
    {
      "cell_type": "code",
      "source": [
        "linkedin_urls = [item.get('LinkedIn URL') for item in linkedin_data if item.get('LinkedIn URL')]\n",
        "linkedin_ids = [url.split('/in/')[-1].split('/')[0] for url in linkedin_urls]\n",
        "\n",
        "print(\"LinkedIn IDs extracted:\")\n",
        "print(linkedin_ids)"
      ],
      "metadata": {
        "colab": {
          "base_uri": "https://localhost:8080/"
        },
        "id": "ss1CoWlGkZrg",
        "outputId": "7b1bd499-8da7-4158-d173-9bfed27bfc3d"
      },
      "execution_count": 10,
      "outputs": [
        {
          "output_type": "stream",
          "name": "stdout",
          "text": [
            "LinkedIn IDs extracted:\n",
            "['vinicius-natal-799a5b140', 'juliayahagi', 'renan-t-mondini-072701377', 'matheus-henrique-ferreira-de-oliveira-44a31a194', 'paulo-izaque', 'fernanda-samecima', 'alexandre-dos-santos-oliveira-3bb3b6208', 'victoria-ramos-4295892a3', 'luiz-henrique-da-silva-546b041b0', 'guilherme-porcel-a923b232a', 'pedro-lucas-godoy', 'isadora-campos-trindade-a2881a297', 'emanuele-queiros-165826237', 'ana-tereza-mazuco-moraes-677638287', 'amanda-corr%C3%AAa-tavares-53b2532a9', 'amandaramoslt', 'caio-r-de-oliveira-01', 'enzo-guzzo-duz-b44168325', 'francisco-alcantara-b2a0a6209', 'franciscocatoira', 'gabriel-tjustino', 'giovannagarbelotti', 'giovannidionizio', 'giuliagarciaolv', 'guilherme-portilho-753793265', 'gustavo-calonego', 'henrique-reiss', 'isadora-andrade-barbosa', 'jo%C3%A3o-vitor-souza-da-silva', 'j%C3%B4natas-pereira-b99b87324', 'jos%C3%A9-fernando-freire', 'juan-marco-andrade-van-melis-b5a3871b9', 'juliabgloor', 'j%C3%BAlia-dias-895b321b9', 'leonardo-vaz-moreira-097a7220', 'leticiajgomes', 'luan-moreno-de-castro-38828a2b5', 'lucas-momesso-fernandes-07aa1396', 'luisgsartori', 'naomipolis', 'maiara-matiaze-4b00a319a', 'manuela-silvestre-furlan-980438229', 'nicolly-carlos', 'pablo-alexandre-cardoso-199b79270', 'pedro-henrique-v-silva-017a29197', 'priscilafantinato', 'rodrigomurbach', 'r%C3%B4mulo-marinho-203aa221b', 'r%C3%BAbia-rodrigues-691b42201', 'thiago-uemura', 'victorscatena', 'vin%C3%ADcius-rodrigues-65893a197', 'gabriela-costa-bb3971172', 'bruno-thomazella-6b0052262', 'engbrunosilv%C3%A9rio', 'bruno-borges-002bb214b', 'carla-andrade-5990a01b8', 'danilogoto', 'evandro-gabriel-oliveira-1b3205157', 'gabriel-diniz-86b1b52a5', 'guilherme-jord%C3%A3o-620903234', 'lucasbarrosilva', 'leticialemosbarbosa', 'maria-eduarda-nunes-85619633b', 'marina-bressan-pasquetta-41763128a', 'rodrigo-bento-3415ba20b', 'ana-laura-pascucci-419b7a205', 'brunno-chiodini-dos-santos', 'cesar-kanzato-920315254', 'charles-kyan-3a8875180', 'claudecycruz', 'franciely-poyo', 'gabriela-yamashita-negr%C3%A3o-944575208', 'gustavo-brenguere-556a3a223', 'isabel-costacurta-da-silva', 'jair-patroc%C3%ADnio-2b7016221', 'jenniferberrocal', 'jonathan-selan-98b983222', 'j%C3%BAlia-rodrigues-b139962b9', 'juliana-garcia-perrone-b323a9205', 'la%C3%ADs-helena-da-silva-215238113', 'laura-lima-1042a0237', 'leonardo-mendes22', 'lucasmorenovalverde', 'lucasstrutz', 'lu%C3%ADs-ot%C3%A1vio-tozetti-nepomuceno-b40a061b9', 'luis-gustavo-rodrigues-da-silva-30893232', 'marcela-ta%C3%ADs-bregadioli-758342229', 'matheus-ribas-francisco', 'matheuspiacentini', 'samira-gomes-tejeda-065a59217', 'aldrius', 'j%C3%BAlialocatellipolisel', 'camila-de-macedo-braga-92046731', 'emanuelle-ruas-5b8a131a4', 'guilherme-matos-martins-diniz-171ba97a', 'gustavobianconi', 'isabelle-estevam', 'laisfernandalopes', 'leonardo-caliman-vitor-886094223', 'luisfeliperabelo', 'thiagojesuslemes', 'vferreiras', 'let%C3%ADcia-ramos-863709ba', 'willian-lopes-b294271b4', 'aj-sindarsic', 'arthur-donato-150', 'barbara-zerneri-5b945816a', 'bruno-santili', 'bruno-santos-ferreira-10516061', 'carla-grasse-528b691a8', 'chrystian-oliveira', 'ettore-barreira-196a62213', 'gabrielabailo', 'giovana-superti-maia-4aa882184', 'giovane-tomazolli-660bb397', 'giovannibperina', 'igorbonamin', 'j%C3%A9ssica-amaral-9a1111110', 'jo%C3%A3o-pedro-affonso-540528138', 'jos%C3%A9-victor-ferreira-a63a6820b', 'leonardo-freitas-71b683153', 'leticia-marin-romero', 'guarnierilucas', 'lucas-fernandes-oliveira-b556202a0', 'luccas-paschoalini-a1b164220', 'luciana-porsi-12653115a', 'luis-pedro-rojas-herrera-41942a1bb', 'maria-julia-pedroso', 'mvit%C3%B3riapacheco', 'matheusassuncao1', 'matheus-almeida-86a57a171', 'miguel-marques-889a05215', 'rafaelcusmano', 'raphaellimasilva', 'rutielly-prado-1b3624137', 'ta%C3%ADs-capato', 'vin%C3%ADcius-hebling-rodrigues-427317181', 'amanda-alvarez-montassier', 'beatrizmassis', 'bruno-cesar-lopes-2921181a5', 'caio-cesar-192a4544', 'carlos-m-oliveira', 'david-mendes-de-ara%C3%BAjo-11173825a', 'eduardo-hideki-godoy-urasaki-979485212', 'helena-fukuda-565986193', 'ivan-colombo-5733b0303', 'jo%C3%A3ovitormsiqueira', 'jose-guilherme-trentim-longo', 'lucas-da-rocha-soares-957177166', 'maria-j%C3%BAlia-de-freitas-84bb74180', 'mariopsouza', 'mtarcinalli', 'henrique-seixas', 'raissa-rodrigues-6490b466', 'renan-nishimoto', 'sabrina-lopes-fernandes', 'thepaixao', 'vivianepopin', 'adriane-cordeiro-4712391b0', 'amandalopescastro', 'amandabalthazar', 'anderson-lopes-179a96202', 'brunadanielac', 'edson-ten%C3%B3rio-a4ba89298', 'eduardo-ramos-de-oliveira-058334aa', 'gabriel-pav%C3%A3o-aa07361bb', 'gabrielgusm%C3%A3o', 'gabriel-pereira-silva-b1593325b', 'gabriela-godoy-da-silva-5262a1269', 'george-thom%C3%A9-878526142', 'guilherme-lauer-gandolfi-da-silveira-390417124', 'gustavo-zago-borges-32889ba5', 'heloisa-chicone-maria-a75038193', 'isabela-de-paula-rodrigues-13627616a', 'isabella-doriguetto', 'jbvilar', 'leandro-guirado-parvo-a9a128209', 'leonardo-lemos-de-souza-36278544', 'leonardo-di-carlo-souza-goncalves-3385581b0', 'lucassakomura', 'mariabotega', 'maria-gabriela-coutinho-532a311a4', 'mariele-christofoleti', 'marina-keppe', 'matheus-magagnato-502905121', 'nadia-branco', 'patrick-cristino-martins-0a09851b0', 'paula-mayumi-hatano-39899314a', 'rafael-de-paula-ferreira', 'rafaella-pavan-dematte-883488204', 'robertyudi', 'samuel-bellato', 'thiago-vila-martha-11731116a', 'tiago-de-morais-4b485298', 'williangiacometti', 'matheus-magnabosco-922ba1142', 'anabeatrizscardoso', 'bruna-koono-a62b94193', 'francisco-p-collet', 'gabriel-boschini-a458b019b', 'gabriel-vicen%C3%A7oni-correia-da-silva-87b7b520a', 'gustavovillela', 'joao-vitor-de-mello-belli', 'juliaqueirozbotelho', 'leonardo-borges-023b9214b', 'marciojen', 'marirodrig', 'matheus-figueredo-e-silva', 'miriam-mercaldi-9b0196193', 'niltonnaitzel', 'pedro-henrique-azevedo-pessoa-0b3255184', 'felipe-urso-parreira-pinto-695266215', 'vitor-hugo-gon%C3%A7alves-704251191', 'yuri-vieira-nascimento', 'alexandre-e-paulino', 'andremenezesds', 'b%C3%A1rbara-rossitto-3772361ab', 'bruno-de-oliveira-ribeiro-85b183163', 'caiocouto', 'camila-marques-oliveira', 'caroline-chiari-da-silva-728997180', 'eduardo-franchini-a09826187', 'eleonora-fonseca-santos', 'eric-senaga', 'gabriel-dambroski-partel-808946186', 'gabriel-semensato97', 'gabriela-bolini', 'george-miguel-farha-diban-760348185', 'geovana-ferreira-dos-santos', 'gustavo-maschietto-89252996', 'isabellampiva', 'isabella-noronha-silva-308238188', 'jo%C3%A3o-oliveira-82a12727a', 'julia-morelli-3923bb323', 'juliocioni', 'laura-de-oliveira-battistini-pestana-2b7344190', 'leonardokenzokitayama', 'luana-serafim-lima-da-silva-2a77051a0', 'yoshio-hashimoto-94b28b6a', 'marinaalkimin', 'murilo-ortega-godoy-6a3625181', 'rafaelargarcia', 'rodrigopegoraro', 'sammercastro', 'tiago-caetano-854b19181', 'vanessa-gabriele-em%C3%ADlio', 'amourasilva', 'joaovitorbeltrame', 'jose-afonso-rocha-618119278', 'caio-buranello', 'emerson-bedeschi-43946116a', 'flasrocha', 'giovana-stanganelli', 'gustavo-quareli-789147189', 'gustavo-parra-pascolat-99385a187', 'j%C3%BAlio-cesar-c%C3%A2ndido-4402b8222', 'leonardo-costa-755771165', 'leonardo-oliveira-de-lima-9045701b2', 'lucas-souza-543770190', 'mauro-fujiyama-junior', 'otavio-furiatto-3a270a168', 'patriciabsakamoto', 'pedro-munhoz-750551149', 'rafael-viersa-barros-silva-1160a51a4', 'tomascmenezes', 'brunatosin', 'dgussonramos', 'eduardo-rezende-duarte-baa1291a9', 'f%C3%A1bio-alayon-31440018a', 'giovanepassafaro', 'guilherme-calvo', 'helen-inouye', 'la%C3%ADslsilva', 'm%C3%A1ira-de-toledo-tose-669369242', 'marcoschenlou', 'marianajpelozo', 'samuel-senhorini', 'victormcruzz', 'victor-nakata-844a50131', 'alexandre-peres-monteiro-331b55161', 'andr%C3%A9-trevine-araujo-bezerra-de-menezes-704529123', 'b%C3%A1rbara-di-bianco-1a01a616b', 'beatriz-aliberti-da-conceicao', 'beatriz-bellini-502074150', 'beatriz-garcia-silva-55149a21a', 'bruna-malaghini', 'bruno-silva-01', 'bruno-%C3%A2ngelo-orlandin-840319112', 'bruno-ascencio-412b7a142', 'caroline-cili%C3%A3o-crippa-calil-4011a7168', 'felipe-bernardes-bonfante-7420b423a', 'felipe-moretti-3840b78', 'gabriel-pagliarini-870518207', 'giovanna-arroyo-jardim', 'guilherme-augusto-caravanti', 'henrique-ferreira-53574b1a4', 'isabella-lagazzi-de-marchi-38571619a', 'jo%C3%A3o-francisco-ibraim-elias-3a62141ba', 'joao-vitor-simeao', 'laismartello', 'laura-cezaro-fernandes-01a94317a', 'lillianeuemura', 'mateus-machado-fernandes', 'mauricio-santos-amaral-347174115', 'n%C3%A1yra-louise-5b4938228', 'paulo-eduardo-camargo-5896b6125', 'pedro-facholli', 'pedro-loffredo-04b7361a4', 'rodrigo-sandoval-bacaro', 'steffani-baroni-siman', 'tauhanpaternese', 'thatiana-de-castilho-82274a163', 'vin%C3%ADcius-costa-3187361b1', 'alan-castro-a39555168', 'camila-fernandes-17b180334', 'eduardo-henrique-canniza-728707226', 'felipe-vitali-a685ab154', 'henriquekoga', 'julia-bosso-de-mello', 'lara-comar', 'lucas-rodrigues-194b99293', 'luciana-iannone-tarcha-2b40878b', 'maite-silveira-b7a7a530a', 'mateus-rodrigues-742360378', 'nathallidomingos', 'pedro-henrique-nunes-morandini-873896154', 'ricardo-gon%C3%A7alves-dos-santos-306345a2', 'robertotakitane', 'rodrigo-augusto-51661741', 'rodrigo-gimenes-gimenes', 'rodrigo-soares-da-silva-24009519a', 'thais-martins-maia', 'doutorvictor', 'lucasconessa', 'luis-guilherme-scafi-menegatti-0ab07a128', 'marcos-grigolon-1a7731211', 'gustavo-tavernaro-tambelli-791a0a168', 'bruno-chinen-5895b2147', 'caiodecastro', 'ciro-rossetti', 'daniel-vareda', 'doramariamartins', 'felipe-cesar-de-lima-2ab410127', 'f-lourenco92', 'gpaivasdesousa', 'higor-de-assis-5a3a93226', 'igor-felipe-dechechi-a78831161', 'jo%C3%A3o-carlos-porto-geralde-viol-5b5b03129', 'joaovitorcarvalhomarzola', 'let%C3%ADcia-piancastelli-siqueira-brina-263026149', 'marcelobciani', 'mauro-antonio-de-oliveira-junior-340482149', 'nelsonjulio-silveirasilva', 'rubens-yuji-shinozaki', 'victor-sona-cruz-b541b3122', 'andrebarbeirophd', 'christian-herweg-9b656818b', 'cristiane-as', 'daniela-de-souza-pereira', 'danilo-mimessi-fransani-475b88168', 'dayane-da-silva-cruz-ab6915162', 'fellipesouza', 'giovanna-de-oliveira-b6375216a', 'giuglia', 'josue-oliveira-junior', 'karenktomita', 'larckson-marra-2a6abb15b', 'larissal-aguiar', 'marcel-grandino-cfp%C2%AE-764215156', 'marcelanevesvieira', 'matheus-capelini-medina-8088a3149', 'nadiavbfernandes', 'naiara-pereira-pradela-149902114', 'wilianaacruz', 'larissa-benatti-485a11179', 'ananda-gon%C3%A7alves-24984049', 'anderson-malagutti-oliveira-5b1724140', 'andbarbieri', 'angela-su-814414b2', 'angelo-vassoler-66b70a128', 'beatriz-pereira-ungari-365584316', 'brunobelluomini', 'bruno-vinicius-rodrigues-aa4ab642', 'carolinagondo', 'eduardo-marques-ab698035', 'gabriela-moraes-586145208', 'gustavo-rotta-0062367b', 'gustavo-sandri-ba0887a6', 'heitoraugustomello', 'henrique-gon%C3%A7alves-36aa18147', 'isabela-durci-rodrigues', 'joao-antonio-camargo-matiolli-3bb95b1b4', 'jose-ambiel', 'jose-vitor-de-lira-haraki-6a68047b', 'larissa-aparecida-dos-santos-0b18a1153', 'leandromfreitas', 'leticiaporfiriovicentini', 'luanlribeiro', 'lucas-chaves-766875121', 'lucas-santos-665697230', 'lucianoauricchio', 'luis-felipe-freitas-garcia-de-lima-04696b2aa', 'luis-carlos-almeida-1a2aa322', 'luiza-pizzirani', 'marcela-gimenes-3b123b7b', 'mariana-basolli-borsatto-65142b146', 'marianacintraelias', 'natan-kameya-03223a109', 'pedro-henrique-daud-334708191', 'bemantovaneli', 'rodrigo-carneiro-a3b85232', 'rodrigo-bertolotto-30b712b8', 'romulornunez', 'vinicius-costa-620693158', 'william-koiti-o-a7144717a', 'anapaulapassos', 'batrizz', 'bruno-rodrigues-leite-33675752', 'dsantosf', 'guilhermemiyake', 'leonardopegoraro', 'marcusprates', 'marialigiasgariboldi', 'pedro-bonini-boneti-9a5095126', 'suellen-poliana-santos-195660129', 'teithiago', 'yurifinotti', 'alexander-turra-0364271b', 'bruna-regina-mega-068829b8', 'eduardo-da-silva-7204a3172', 'emflopes', 'felipe-jacomini-ribas-492160195', 'fernanda-beluca-minatel-787885119', 'fernandodealmeidapereira', 'gabrielhsalgado', 'gabriel-queiroz-3a363b303', 'guilherme-camargo-44584732', 'guilhermegaspersen', 'guilhermespinace', 'isabela-silveira-2b73bb198', 'jo%C3%A3o-paulo-18596834', 'leonardo-m-ikeda', 'ma%C3%ADra-terra-garcia-7371b6142', 'mariana-de-miranda-7b348b1b4', 'maur%C3%ADcio-renosto-domingues-25150815a', 'raquel-yuka-uemura', 'ricardo-fernandes-627723231', 'thuane-facion-8768a0115', 'victor-approbato-machado-512ba7243', 'andr%C3%A9-malosso-junior-43939a1aa', 'andr%C3%A9a-almeida-33146a208', 'heber-fabbri-a5982370', 'lucas-daniel-barile', 'mtoutain', 'marcobizarri', 'mateus-loesch', 'nayara-kasai', 'nayshihara', 'rafael-dupim-79682b88', 'rodrigo-ruiz-sanches-b3b29969', 'rodrigo-takano-98b15268', 'thaliacusin', 'victor-bettoni97', 'davi-mezalira-14840625', 'juliana-ferreira-cerquera-415ba6105', 'leonardomarreto', 'leparmeggiani', 'dsolucas', 'lucas-martins-pedro-b3782a88', 'manuelakassab', 'n%C3%ADcolas-f%C3%A9lix-3a37b5106', 'arthur-tonato-4761868a', 'b%C3%A1rbara-silva-b54746165', 'bruno-bernardoni-oliveira-380681102', 'celg', 'daniela-corassa-garcia-engenheira-civil', 'elisaravagnanidonadeli', 'elo%C3%A1-maciel-da-silva-2057b211b', 'filipe-selva-76787349', 'gustavomarconi', 'henrique-collin-leopoldino-142261119', 'henrique-boni-419138100', 'leticia-palla-florez-03a49230', 'luniery-schiavon-4b7251104', 'marcelo-nunes-buscariollo-1a1b70116', 'marcos-denardi-filho-5233b1a6', 'matheus-debianchi', 's%C3%A9rgio-m%C3%BCller-3b733845', 'rafael-borges-cunha-campos-92a684134', 'renan-bignardi-borges', 'renancraveiro', 'vicente-mamede-borges-623385184', 'victor-torres-witzler-8b14338a', 'brunoono', 'tayane-westermann-lopes-castilho-440b9264', 'anderson-bernardo-de-lima-37863920b', 'acdebacco', 'b%C3%A1rbara-haddad-a369a640', 'daisyimamoto', 'eduardo-hartung-de-albuquerque-16581b10b', 'elaine-cristina-leonello-43083412', 'favps', 'felipe-paisan-a80930109', 'gabriel-fragoso-04851362', 'guilherme-luna-floriano', 'guilhermetavernaro', 'katherinesallum', 'laura-mazeto-theotonio-27165031', 'laura-m%C3%A9rcia-batista-8941b2105', 'leonardo-carbonieri-79697b28', 'lourivalsilva-neto', 'lucas-da-silva-cavalheiro-895b6781', 'marcelo-fernandes-de-oliveira-9a8542298', 'rafael-hayashi-longo', 'vanusa-souza', 'vcdaud', 'analauralordelo', 'ana-rosa-sallum-fabbro-661042b8', 'andr%C3%A9-de-souza-camanho-52209374', 'beno%C3%AEt-m%C3%A9tais-652b1a7a', 'carlos-s-de-a-marin-a3428736', 'fevelloso', 'felipe-gabriel-a8b492266', 'felipe-ramires-boi%C3%A7a-68b4947a', 'felipe-suehara-feitosa', 'fernandaventurini', 'gabriel-souza-lopes-983342199', 'glauberponte', 'gustavo-valinoto-39a19b8b', 'jo%C3%A3o-felippe-tizzo-290583108', 'manoel-alves-24425789', 'leonardo-carlos-227b2536', 'livia-toniolli', 'mara-pereira-50614834', 'marli-lima-5558b086', 'mateus-michelan', 'mellissakishimoto', 'pabloaflorencio', 'paulo-roberto-de-oliveira', 'rharamys-bordini', 'silas-mello-28929465', 'thiago-nogueira-29264342', 'vinicius-della-libera', 'caio-carapello-64698772', 'caio-martins-di-gi%C3%A1como-20b23a82', 'giovana-souza-075929192', 'guilherme-teixeira-230069117', 'hugo-cescatto-germer-7b327812b', 'jos%C3%A9-augusto-nora-zono-ab41357a', 'marianeccardoso', 'alfredosaab', 'leandroagostinho', 'murilolmtorres', 'kamila-unesp-901478b8', 'lucas-gallina-67766869', 'nathalia-cristina-238335243', 'rafael-alves-b61b50219', 'alexandre-mattos-peron-30069ba4', 'aline-nogueira-vieira-730783137', 'ana-patr%C3%ADcia-aranha-de-castro-141463237', 'andr%C3%A9-baltazar-19127733', 'afonso-pereira-neto', 'shoji-koh-a371b779', 'arthur-takayama-assun%C3%A7%C3%A3o-albuquerque-7a9890168', 'artur-mour%C3%A3o-diegoli', 'b%C3%A1rbara-henrique-cardoso-98269333', 'caio-haffner-2184ab18', 'camila-villanova-frasson-8ab8b365', 'goncarol', 'carolina-olimpio-69946878', 'gabriela-de-paula-ribeiro-715018158', 'guilherme-miranda-b28924198', 'jaquelinepelloso', 'marcos-silveira-51511256', 'karinarochacampos', 'kleber-rodrigues-martins-5695418a', 'leandrolrcs', 'lincoln-fukuoka', 'lucas-sciacca-1b187b54', 'lucas-aguilar-09a94917a', 'luis-gabriel-carboni-palhares-615402235', 'manoel-flores-garcia-junior-aa3239a1', 'marco-antonio-alves-de-lima-filho-44341641', 'marcosviniciussantosalencar', 'marcus-vinicius-622127298', 'maria-cecilia-paviotti-01a110110', 'marila-mendes-920b2aa9', 'mauricio-rogerio-ramos-ribeiro', 'patricia-tavares-de-souza-433618149', 'renato-nisa-miyara-208ab3bb', 'ricardo-junqueira-882072138', 'rodrigo-alcoforado-a6262a97', 'thiago-hideki-kumai-857032117', 'vinicius-nevoa-2ba80397', 'zhu-xingyi-2a3168221', 'alexandrefalsarella', 'anderson-luiz-veneno-vendramin-b114889a', 'andre-marchesini-de-aguiar-618b3850', 'carlos-alberto-moreira-filho-2909b468', 'carlos-guilherme-aoki-fraile-5b492883', 'danilo-godoy-6676aa72', 'costanzoengenharia', 'henrique-komatsu', 'igordelgaudioorlando', 'marcelo-rios-silva-11b17a77', 'rafael-souza-20177129b', 'siegfried-karg-netto-93525156', 'silas-nunes-batista-21147698', 'thiagoccastilho', 'victoralira', 'ana-carolina-maeda-porto-000b7054', 'anderson-pereira-946718352', 'andre-rc', 'arianegonzagas', 'beatriz-sakamoto-5178a3227', 'beatriz-dodopoulos-grant', 'brunadsgoes', 'carolina-b-rangel-84221829', 'c%C3%A9sar-augusto-8563b228', 'danilo-masson-mattos-10b9ab89', 'diego-ferreira-8a96aa92', 'felipeokano', 'fernando-scalon-584636265', 'filipe-batista-b853432b0', 'gabriel-borges-malini-aab7a77a', 'guilherme-sperandio-a0845a180', 'hermanpiccinin', 'isabela-soutoparisi-49085454', 'jeferson-brito-49109376', 'kevin-gabriel-12720b355', 'leandrotukamotoengenhariacivil', 'lucassaviofagundes', 'luciana-campos-129b261b1', 'luis-bugnotto-281751118', 'marcelo-do-vale-martins-51057425b', 'mariana-jacobsen', 'mayra-watanabe-0a90416b', 'michaelandrade013', 'murillo-mantovani', 'nataliarondonzilio', 'nathalia-barbosa-batista', 'pamela-arakaki-b6178749', 'paula-jarreta-lima-95194256', 'paulo-manoel-monstans-alves-da-silveira-165b6a55', 'pedrocarvalholopes', 'pedro-souza-98640a384', 'pedro-giantomassi-3543186a', 'pedro-romano-de-aguirre-98928455', 'rafaella-pazetto-duckur-379962a5', 'raphael-gonzalez-pace-63414263', 'raul-carvalho-gomes-08232566', 'renansprado', 'ricardo-paula-89603241', 'ricardo-sartori-09076a224', 'botelho-francisco', 'tarc%C3%ADsio-malta-ferreira-47a18863', 'thiagotrolezi', 'willian-minoru-makuda-370316160', 'alisson-rodrigues-da-silva-285188206', 'arthur-guidi-fabiano-0b87768a', 'daniel-trivellato-perina', 'eduardo-ribeiro-aa79651b3', 'fabiolamorea', 'felipe-mouraleite', 'felipe-souza-1262b332b', 'guicostasouza', 'guilhermenevesaerospace', 'hiuram-joram-09a65831', 'iris-hortencio-000a64160', 'julio-c%C3%A9sar-gon%C3%A7alves-432b5a56', 'leandro-nogueira-23806a265', 'marcelo-moutinho-franchim-04b26454', 'murilo-volpini-bizetti', 'otavio-lima-acquarone-11360954', 'carlos-requena-7316ba138', 'thales-pinto-b1730252', 'felipe-ribeiro-fisio', 'viniciusruycanoarruda', 'amanda-mayumi-0001aa214', 'ana-beatriz-pachani-0480ab2b5', 'ana-livia-mendon%C3%A7a-alves-45683238', 'artur-rodrigues-0020a6197', 'brenocarvalhaes', 'caio-bressan-4699b2343', 'camilaferreirarp', 'carloseduardocrosatti', 'vhonda', 'cristina-gon%C3%A7alves-de-souza', 'danilo-viera-mendes-gon%C3%A7alves-4089a251', 'elton-tamashiro-302349325', 'felipemangueira', 'fernanda-serid%C3%B3rio-94a4516a', 'henriquefortesteixeira', 'fernando-bordignon-87bb5540', 'gustavo-pernomian-23526718b', 'jo%C3%A3o-paulo-carriel-soares-4b658011b', 'jos%C3%A9-neto-047200226', 'juliana-fukuda-2078a21aa', 'larissa-carreiro-fogaca', 'leandro-oliveira-108a9233a', 'luciana-navarro-andrioni', 'luis-s%C3%A9rgio-bizanha-18975162', 'luiz-gustavo-affonso-10ba9967', 'luiz-h-r-torres', 'manoela-targa', 'marco-lolio-franco-de-campos-44897353', 'maria-am%C3%A9lia-lemes-87206064', 'marilia-machado-vaz-melo', 'marluci-pregnolato-16276b66', 'corsi', 'paulo-donizete-fernandes-66635959', 'rafael-umeki-a34b2055', 'renata-demai-bottino-20833238', 'rudneyhs', 'vinicius-antonioli-a8a28978', 'vin%C3%ADcius-luan-carvalho-32a82b47', 'willian-hidaka-07249b89', 'willian-haddad-45431792', 'ang%C3%A9lica-alves-lima-grando-47107334', 'bruno-junqueira-78205a208', 'marcelo-burani-kowalski-19a294121', 'diego-casella-45257237', 'glauco-guidi-de-souza-a36523127', 'l%C3%ADgia-rapizo-3ab35059', 'pedro-luiz-suarez-penteado-73b67639', 'pedro-folha-60897b34a', 'rafael-vieira-correia-07381031', 'victor-sakamoto-37a671116', 'ana-luiza-affonso-207682271', 'antonio-carlos-lopes-da-silva-ba9594166', 'bruna-leme-192678189', 'camilacherem', 'carlos-eduardo-motta-a6a86135', 'cristiane-yuri-947012170', 'arthur-vergacas', 'gabi-faulim-4441409a', '%C3%A9rico-franciscato-braga-12355259', 'felipe-nunes-b7ba30279', 'francisco-moreira-teramossi-274b3045', 'francisco-avesani-23731941', 'guilherme-martins-rodrigues-do-nascimento-432301178', 'gustavo-gon%C3%A7alves-5bba6539', 'hugo-noguchi-b2a39415', 'irineu-palhares-45107889', 'josemenegazzoneto', 'josiani-miranda-14297223', 'juciara-gama-26072b124', 'juliana-ribeiro-5453b894', 'leandro-suzuki-31731a48', 'leandropbarbosa', 'leandro-joly-031270287', 'leonardo-bianco-de-carvalho-11998958', 'lissandra-dionisio-7b3190177', 'luana-nora-615283130', 'luciana-charantola-a20b14110', 'luiz-bull', 'luiz-henrique-sartori-ab4453162', 'mauriciosanomya', 'nat%C3%A1lia-fel%C3%ADcio-d%C3%A1-silva-496bb2143', 'rebecca-silva-aa830799', 'renan-pepato-97092694', 'renata-sajovic-martins-286bab21', 'roberto-wertheimer', 'thiag0lima', 'victor-sillman-martins-2970a735', 'vitor-hiroaki-harima', 'amanda-moreira-9781402b5', 'beatriz-seino', 'daniel-ascava-1a496b39', 'emanuel-j-troya-cfp%E2%93%A1-cea-ancord-3805732a', 'felipe-yoshikane-toyama-aab4b45b', 'fernando-reis-nutricionista', 'h%C3%A9dio-fernandes-sanches-j%C3%BAnior-084177183', 'henrique-frias-30322722', 'leandro-muniz-1a2a812b', 'lucastr85', 'mathiasloch', 'rodrigo-oliveira-9150a1346', 'thiago-nunes-de-ara%C3%BAjo-066667a9', 'vando-biondo-jr-2ab26a2a', 'victor-barbieri-83985651', 'silvia-uehara-kazama-10092125', 'assimoes', 'aline-marini', 'eng-ana-carolina', 'ana-paula-martins-46ba27108', 'andre-azevedo-luis', 'camila-gra%C3%A7a-pinheiro-989755188', 'carlos-eduardo-pifer-426a49131', 'fernanda-vieira-pasini-31776936', 'fernando-favero-alves', 'fernando-toku-6457226', 'giselle-santos-silva-42879655', 'heber-soares-vieira-07052779', 'roberto-da-silva-59607220', 'jdferrari', 'jo%C3%A3o-leite-alvim-9399b729', 'j%C3%B4natas-menezes-costa-b4a36b59', 'karenziloti', 'karina-palopoli-004aa027', 'lhmaruyama', 'luis-augusto-peres-8a091b217', 'luiz-gustavo-foschiani-0b1a2941', 'marcia-tiemi-yamasaki-7235b857', 'marcio-massaru-sinzato-35696a335', 'marco-aur%C3%A9lio-fiacadori-reis-3812254b', 'marcossbarreto', 'noelle-yoshimura-dalberto-74235424', 'omar-rezende-248310129', 'ot%C3%A1vio-vieira-173009219', 'paola-muniz-3134785a', 'paula-ranieri', 'raphael-viegas-002ab8240', 'ravi-hummel-839027b2', 'renata-reinert-75919926a', 'renato-montanha-03ba62303', 'ricardo-afonso-646918b4', 'rubens-amaral-b09a142', 'tha%C3%ADs-barasal-cruka-65083372', 'victor-stanzione-94b77b123', 'diego-martins-01b925317', 'fernando-hideki-yonamine-762859234', 'leocbleo', 'rafael-damacena-53315514a', 'roseane-watanabe-9a955435', 'dorivaljunior', 'flaviopadovani', 'guilherme-conte-31a000147', 'ivan-rocha-79464330', 'jos%C3%A9-eduardo-mar%C3%A3o-90472282', 'juliano-aparecido-romano-de-oliveira-b48b23217', 'prof-lucas-ferreira', 'luiz-felippe-campana-886716109', 'marco-cury-6b8a2315', 'marcostavares3', 'matheusplo', 'ricardo-leonel-8b467572', 'opmvitali', 'am%C3%A9rico-caccere-bb002542', 'breno-hernandes-98747837', 'bruno-pereira-1107602b2', 'bruno-matiuzzi-de-oliveira-b067601a5', 'bruno-rocha-700710221', 'brunogervasio', 'cristiane-akemi-miyashiro-80871925', 'em%C3%ADlio-s%C3%ADmon-p%C3%B3voa-9225aa45', 'fabio-crulhas-901763105', 'f%C3%A1bio-mingatto-178005373', 'felipe-pernomian-0168a230', 'fernando-reche', 'gisella-oliveira-665654140', 'guilhermemalavoglia', 'guilhermegoldoni', 'gustavo-kenji-kobayashi-018567a2', 'homeroandradedionisio', 'jo%C3%A3o-guilherme-corr%C3%AAa-marcolino-4b427a278', 'jos%C3%A9-roberto-de-ara%C3%BAjo-j%C3%BAnior-4082b0156', 'marcelo-henrique-furini-5a988a35', 'marcos-barbosa-26b24533', 'mariana-fernandes-861081187', 'n%C3%A1dia-bazzo-francisco-ba5248115', 'paula-watanabe-61abb4146', 'renata-de-mello-mobiglia-18938a46', 'sim%C3%A9ia-zanini-espirito-santo-284462ba', 'vitormanuelpinho', 'liarachel', 'abileo-ayub-aa00152a0', 'andr%C3%A9-zancop%C3%A9-a1a84778', 'carolina-harumi-itakura-85b832384', 'diego-rafael-paiva-ferreira-1b7529231', 'felipe-sales-10247a162', 'gustavo-saran-moura-a68b165b', 'jean-r-f-escobar-362a6023', 'joaoclaudiocatini', 'samir-cesar-bette-91784347', 'silvio-ramos', 'thiago-mazzutti-guerra-55765852', 'aldogaiotto', 'alessandro-cillos-silva-90596278', 'alexdesiqueira', 'andre-moreschi', 'andr%C3%A9-luiz-da-silva-54947137', 'crisarakaki', 'bruna-a-alves', 'bruno-brito-6b148124b', 'carolina-benfatti-091367224', 'carolina-yumi-kubota-14487b374', 'catarina-domingos-38093826', 'vinicius-de-camargo-noronha', 'engfelipechagas', 'gustavo-prata', 'henrique-augusto-segamarchi-994a855a', 'jo%C3%A3o-paulo-espirito-santo-lopes-30818770', 'luciana-yumi-akisawa-silva-7127ab100', 'marcos-danilo-arantes-86261b312', 'margareth-tahira-599ab71b5', 'marina-neves-419563134', 'michel-hotoshi-8b209021', 'patrick-kehde-moujaes-mba-ba650143', 'paula-cosma', 'rafael-vieira-968a0322a', 'samuel-ribeiro-08a6a234b', 'tiagosambinelofaria', 'val%C3%A9ria-borin-antenor-17473463', 'victor-hiroshi-pavao-miyahara-23471926', 'vin%C3%ADcius-silva-5418b8286', 'vivian-ubukata-escobar-b0a96a23', 'werner-hainz-1a5b8753', 'rodrigo-barbosa-moreira-8a7a5311a', 'andreluizcotrimdemarchi%E2%88%B4', 'carlos-alexandre-de-oliveira-4789774b', 'danilogsilverio', 'eduardotroncon', 'f%C3%A1bio-gallo-4495a026', 'flavia-soares-pereira-6a182a249', 'gustavogaldinoferreira', 'igor-piovezam-097a8a38', 'jairo-agard-candido-9669706b', 'leandro-garcia-aloise-b3060321a', 'leandro-parras-meleiro-pmp%C2%AE-5062bb35', 'mairo-puccini', 'marcelo-kenji-gomes-yanai-9ab18521', 'marco-antonio-kusano-97a47823', 'marina-ferraz-cs-psico', 'rafael-dassie-17385451', 'renata-marques-dutra-aloise-71577a15a', 'rodolfo-aloise-2a8a1431', 'thiago-martins-da-silva-a9293052', 'fl%C3%A1vio-g-bichuette-4b819a2a', 'adrianoabreu', 'adriano-rodrigues-garcia-a0a47b2a', 'ana-laura-canella-amant%C3%A9a-7291a726', 'andr%C3%A9-pavan-monteiro-47238b13', 'aristides-souza-barcellos-mba-54319030', 'augusto-de-almeida-concei%C3%A7%C3%A3o-76877353', 'caoniponchio', 'carlos-eduardo-422a7571', 'cleber-moreno-rissato-9b40b444', 'daniela-capuano-03661533', 'daniela-massami-sato', 'danilo-costa-lages-69a21a310', 'danilo-prado-da-silva-79713b75', 'emanuelle-donadon', 'eveline-previero-de-oliveira-41495814a', 'f%C3%A1bio-norio-sugano-b326892a2', 'fabricio-tardivo-4a070912', 'felipe-castro-alves-33214924', 'francioli-nunes-a4787126', 'gustavo-pincelli-6a25644', 'gustavo-pompermayer-2bb22b40', 'heitorkato', 'jo%C3%A3o-raphael-d-472084225', 'kelly-mattos-sp', 'lidiane-faccio-de-faveri-11496516', 'ma%C3%ADra-brambilla-52321822', 'marcelbittar', 'marcelo-orlandi-895795162', 'marcelo-andrioli-4570666a', 'mauro-osaki-7852957b', 'maysa-malva-52585842', 'paula-carpanezi-367784198', 'paulo-augusto-pedreira-de-freitas-73b29877', 'felipe-araujo-silva-0a292b231', 'ricardo-molto-pereira-9834b943', 'roberto-franco-de-godoi-junior-2519bb29', 'thiago-mota-78626435', 'bianca-diniz-borreia-a20a9129', 'eduardosaran', '%C3%A9rico-d-antonio-teixeira-74681654', 'evelyn-lopes-teodoro-a25410a9', 'fabiotpagotto', 'jose-paulo-vanzela-b1356a112', 'marcel-sanches-braga-59663a110', 'mauricio-salles', 'paula-ramos-de-oliveira-23836224', 'renatoccamargo', 'rogeriosouzaphelippe', 'sergio-roberto-bovo-junior-08617355', 'antonio-queiroz-71b9056a', 'bruno-martins-9b2b98265', 'brunocardozo', 'carlos-eduardo-innocenti-filho-86672931', 'cid-meira-de-castro-junior-b3527a27', 'fabiana-martins-904179262', 'fernandamagaldi', 'gusinf', 'heber-iamamoto-42a74b152', 'juliana-barros-6598551ba', 'leandrorramos', 'leandro-pinheiro-jornalista', 'leandro-araujo-35811616a', 'luciano-marquetto-19a98a1a5', 'luis-carlos-azevedo-besson-91355434', 'luizfranzolin', 'mario-augusto-ferraz-do-amaral-998b1823', 'rafael-amaral-51b94926b', 'rafaelromanz', 'richard-hainz-b0909265', 'rodrigo-antonio-de-souza-11496038', 'rodrigo-nunes-louren%C3%A7o-886ba427', 'rodrigo-pires-cruz-a3354727', 'sergio-ricardo-143bb9324', 'simone-prado-37356618', 'tccalmeida', 'thiagolopes-silva', 'vinicius-machado-35b772315', 'richard-santos-11731728', 'alexandre-gomes-95062627', 'bruno-bertasso-brisighello-2010a175', 'eduardo-silva-2a4300384', 'renata-silverio-45b3a017a', 'rodrigo-colauto-taborda-47462024', 'alexandre-fernandes-236787336', 'allan-ferreira-54416299', 'henrique-prestupa-91974122b', 'andr%C3%A9-pavanello-720487280', 'antonio-carlos-souza-52932a124', 'beatriz-cerqueira-53143a314', 'carla-kobayashi-07880b236', 'carlos-eduardo-camargo-02764039', 'carlos-eduardo-bonasio-9bb3b8206', 'carlos-eduardo-martins-colovate-31a60a305', 'carlos-rodrigues-mello-junior-082a791ba', 'daniel--machado', 'daniel-sanzovo-vieira-90a63131', 'diego-yamauti-990b7031', 'edmar-borges-t-prado-dr-27ab8919', '%C3%A9rico-vidal-06316289', 'felipe-henrique-grigoletto-polli-24033020', 'fernando-kirchner', 'fernando-pio-marchesi', 'fernando-pereira-dias-3498b347', 'francisco-de-assis-serafim-junior-pmp-08b8bb47', 'gabriel-miranda-couto-a34a3631', 'gustavo-avallone-95853655', 'gustavo-bigliassi-14666950', 'henrique-freitas-b6351118a', 'in%C3%AAs-tuyama-adan-31575b30b', 'tpinelli', 'joao--ferrari', 'luciana-bortoletto-192764106', 'marcela-piccolo-b38699251', 'engmarcelovalleromba']\n"
          ]
        }
      ]
    },
    {
      "cell_type": "code",
      "source": [
        "import requests\n",
        "import json\n",
        "from linkdapi import LinkdAPI\n",
        "import time\n",
        "\n",
        "# Initialize with your API key\n",
        "api_key = \"li-r9CRYTKjdUbULQsdXtvk39_MmzxlmKzkK7I5zgouC42XMG9ZZcdx1KDhNwVS88iUSiGB4eCqiAt6hDgQpPQvcyD0zUNpbQ\"\n",
        "headers = {\"X-linkdapi-apikey\": f\"{api_key}\"}\n",
        "\n",
        "all_profiles_data = []\n",
        "not_found_profile = []\n",
        "\n",
        "for profile_id in linkedin_ids:\n",
        "  combined_data = {}\n",
        "\n",
        "  # profile overview\n",
        "  url_ov = f\"https://linkdapi.com/api/v1/profile/overview?username={profile_id}\"\n",
        "  overview_response = requests.get(url_ov, headers=headers)\n",
        "\n",
        "  if overview_response.status_code == 200:\n",
        "      overview_data = overview_response.json()\n",
        "      if overview_data and overview_data.get('success'):\n",
        "          combined_data.update(overview_data.get('data', {}))\n",
        "          urn = overview_data.get('data', {}).get('urn')\n",
        "\n",
        "          if urn:\n",
        "              # profile skills\n",
        "              url_skills = f\"https://linkdapi.com/api/v1/profile/skills?urn={urn}\"\n",
        "              skills_response = requests.get(url_skills, headers=headers)\n",
        "              if skills_response.status_code == 200:\n",
        "                  skills_data = skills_response.json()\n",
        "                  if skills_data and skills_data.get('success'):\n",
        "                      combined_data['skills'] = skills_data.get('data', {}).get('skills', [])\n",
        "              else:\n",
        "                  print(f\"Error fetching skills for {profile_id}: Status Code {skills_response.status_code}\")\n",
        "\n",
        "\n",
        "              # profile certifications\n",
        "              url_cert = f\"https://linkdapi.com/api/v1/profile/certifications?urn={urn}\"\n",
        "              certifications_response = requests.get(url_cert, headers=headers)\n",
        "              if certifications_response.status_code == 200:\n",
        "                  certifications_data = certifications_response.json()\n",
        "                  if certifications_data and certifications_data.get('success'):\n",
        "                      combined_data['certifications'] = certifications_data.get('data', {}).get('certifications', [])\n",
        "              else:\n",
        "                  print(f\"Error fetching certifications for {profile_id}: Status Code {certifications_response.status_code}\")\n",
        "\n",
        "\n",
        "              # profile education\n",
        "              url_educ = f\"https://linkdapi.com/api/v1/profile/education?urn={urn}\"\n",
        "              education_response = requests.get(url_educ, headers=headers)\n",
        "              if education_response.status_code == 200:\n",
        "                  education_data = education_response.json()\n",
        "                  if education_data and education_data.get('success'):\n",
        "                      combined_data['education'] = education_data.get('data', {}).get('education', [])\n",
        "              else:\n",
        "                  print(f\"Error fetching education for {profile_id}: Status Code {education_response.status_code}\")\n",
        "\n",
        "      else:\n",
        "        not_found_profile.append(profile_id)\n",
        "        print(f\"Error fetching overview for {profile_id}: {overview_data.get('message', 'Unknown Error')}\")\n",
        "  else:\n",
        "      not_found_profile.append(profile_id)\n",
        "      print(f\"Error fetching overview for {profile_id}: Status Code {overview_response.status_code}\")\n",
        "\n",
        "  all_profiles_data.append(combined_data)\n",
        "  time.sleep(1) # Add a small delay to avoid hitting the rate limit\n",
        "\n",
        "# Convert the combined list of dictionaries to a JSON string\n",
        "combined_json = json.dumps(all_profiles_data, indent=4)\n",
        "\n",
        "print(combined_json)"
      ],
      "metadata": {
        "colab": {
          "base_uri": "https://localhost:8080/",
          "height": 315
        },
        "id": "14ptBaWDUlLM",
        "outputId": "e1484264-7fa6-42c7-eca3-c176dd49bf0c"
      },
      "execution_count": 12,
      "outputs": [
        {
          "output_type": "stream",
          "name": "stdout",
          "text": [
            "Error fetching education for juliayahagi: Status Code 429\n",
            "Error fetching overview for renan-t-mondini-072701377: Status Code 429\n",
            "Error fetching overview for matheus-henrique-ferreira-de-oliveira-44a31a194: Status Code 429\n",
            "Error fetching overview for paulo-izaque: Status Code 429\n",
            "Error fetching overview for fernanda-samecima: Status Code 429\n",
            "Error fetching overview for alexandre-dos-santos-oliveira-3bb3b6208: Status Code 429\n"
          ]
        },
        {
          "output_type": "error",
          "ename": "KeyboardInterrupt",
          "evalue": "",
          "traceback": [
            "\u001b[0;31m---------------------------------------------------------------------------\u001b[0m",
            "\u001b[0;31mKeyboardInterrupt\u001b[0m                         Traceback (most recent call last)",
            "\u001b[0;32m/tmp/ipython-input-4193172828.py\u001b[0m in \u001b[0;36m<cell line: 0>\u001b[0;34m()\u001b[0m\n\u001b[1;32m     65\u001b[0m \u001b[0;34m\u001b[0m\u001b[0m\n\u001b[1;32m     66\u001b[0m   \u001b[0mall_profiles_data\u001b[0m\u001b[0;34m.\u001b[0m\u001b[0mappend\u001b[0m\u001b[0;34m(\u001b[0m\u001b[0mcombined_data\u001b[0m\u001b[0;34m)\u001b[0m\u001b[0;34m\u001b[0m\u001b[0;34m\u001b[0m\u001b[0m\n\u001b[0;32m---> 67\u001b[0;31m   \u001b[0mtime\u001b[0m\u001b[0;34m.\u001b[0m\u001b[0msleep\u001b[0m\u001b[0;34m(\u001b[0m\u001b[0;36m1\u001b[0m\u001b[0;34m)\u001b[0m \u001b[0;31m# Add a small delay to avoid hitting the rate limit\u001b[0m\u001b[0;34m\u001b[0m\u001b[0;34m\u001b[0m\u001b[0m\n\u001b[0m\u001b[1;32m     68\u001b[0m \u001b[0;34m\u001b[0m\u001b[0m\n\u001b[1;32m     69\u001b[0m \u001b[0;31m# Convert the combined list of dictionaries to a JSON string\u001b[0m\u001b[0;34m\u001b[0m\u001b[0;34m\u001b[0m\u001b[0m\n",
            "\u001b[0;31mKeyboardInterrupt\u001b[0m: "
          ]
        }
      ]
    },
    {
      "cell_type": "code",
      "source": [
        "output_file_path = 'combined_linkedin_data.json'\n",
        "\n",
        "try:\n",
        "    with open(output_file_path, 'w') as f:\n",
        "        f.write(combined_json)\n",
        "    print(f\"Successfully saved combined data to {output_file_path}\")\n",
        "except IOError as e:\n",
        "    print(f\"Error writing file {output_file_path}: {e}\")"
      ],
      "metadata": {
        "id": "-k0fWF2rlAwQ"
      },
      "execution_count": null,
      "outputs": []
    }
  ]
}